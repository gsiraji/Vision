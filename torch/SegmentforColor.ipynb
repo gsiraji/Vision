{
 "cells": [
  {
   "cell_type": "code",
   "execution_count": null,
   "metadata": {},
   "outputs": [],
   "source": [
    "import numpy as np"
   ]
  },
  {
   "cell_type": "code",
   "execution_count": 19,
   "metadata": {},
   "outputs": [
    {
     "name": "stdout",
     "output_type": "stream",
     "text": [
      "Closest color: Green\n"
     ]
    }
   ],
   "source": [
    "def closest_color(rgb_value):\n",
    "    color_dict = {\n",
    "        'Red': (255, 0, 0),\n",
    "        'Green': (0, 128, 0),\n",
    "        'Blue': (0, 0, 255),\n",
    "        'Yellow': (255, 255, 0),\n",
    "        'Orange': (255, 165, 0),\n",
    "        'Purple': (128, 0, 128),\n",
    "        'Pink': (255, 192, 203),\n",
    "        'Brown': (165, 42, 42),\n",
    "        'Black': (0, 0, 0),\n",
    "        'White': (255, 255, 255),\n",
    "        'Gray': (128, 128, 128),\n",
    "        'Cyan': (0, 255, 255),\n",
    "        'Magenta': (255, 0, 255),\n",
    "        'Teal': (0, 128, 128),\n",
    "        'Lavender': (230, 230, 250),\n",
    "        'Maroon': (128, 0, 0),\n",
    "        'Olive': (128, 128, 0),\n",
    "        'Navy': (0, 0, 128),\n",
    "        'Turquoise': (64, 224, 208),\n",
    "        'Lime': (0, 255, 0),\n",
    "        'Aqua': (0, 255, 255),\n",
    "        'Silver': (192, 192, 192),\n",
    "        'Sky Blue': (135, 206, 235),\n",
    "        'Indigo': (75, 0, 130),\n",
    "        'Gold': (255, 215, 0),\n",
    "        'Hot Pink': (255, 105, 180)\n",
    "    }\n",
    "    \n",
    "    min_distance = float('inf')\n",
    "    closest_color = None\n",
    "    \n",
    "    for color_name, color_rgb in color_dict.items():\n",
    "        distance = ((color_rgb[0] - rgb_value[0]) ** 2) + ((color_rgb[1] - rgb_value[1]) ** 2) + ((color_rgb[2] - rgb_value[2]) ** 2)\n",
    "        if distance < min_distance:\n",
    "            min_distance = distance\n",
    "            closest_color = color_name\n",
    "    \n",
    "    return closest_color\n",
    "\n",
    "#\n",
    "\n",
    "# Example usage\n",
    "rgb_value = (np.random.randint(0,255), np.random.randint(0,255), np.random.randint(0,255))\n",
    "closest = closest_color(rgb_value)\n",
    "print(\"Closest color:\", closest)\n"
   ]
  },
  {
   "cell_type": "code",
   "execution_count": 20,
   "metadata": {},
   "outputs": [
    {
     "data": {
      "image/png": "[encoded data removed]",
      "text/plain": [
       "<Figure size 640x480 with 1 Axes>"
      ]
     },
     "metadata": {},
     "output_type": "display_data"
    }
   ],
   "source": [
    "import numpy as np\n",
    "import matplotlib.pyplot as plt\n",
    "\n",
    "def show_color(rgb_value):\n",
    "    color = np.zeros((1, 1, 3), dtype=np.uint8)\n",
    "    color[0, 0, :] = rgb_value\n",
    "\n",
    "    plt.imshow(color)\n",
    "    plt.axis('off')\n",
    "    plt.show()\n",
    "\n",
    "# Example usage\n",
    "show_color(rgb_value)"
   ]
  },
  {
   "cell_type": "code",
   "execution_count": null,
   "metadata": {},
   "outputs": [],
   "source": [
    "import numpy as np\n",
    "from skimage import segmentation\n",
    "\n",
    "def extract_mean_rgb(image):\n",
    "    # Perform image segmentation\n",
    "    labels = segmentation.slic(image, compactness=10, n_segments=100)\n",
    "\n",
    "    # Find the label of the center pixel\n",
    "    center_row = image.shape[0] // 2\n",
    "    center_col = image.shape[1] // 2\n",
    "    center_label = labels[center_row, center_col]\n",
    "\n",
    "    # Extract the region corresponding to the center component\n",
    "    center_component = np.where(labels == center_label, 1, 0)\n",
    "\n",
    "    # Compute the mean RGB value of the center component\n",
    "    center_pixels = image[np.nonzero(center_component)]\n",
    "    mean_rgb = np.mean(center_pixels, axis=0)\n",
    "\n",
    "    return mean_rgb\n",
    "\n",
    "# Example usage\n",
    "from skimage import io\n",
    "\n",
    "image_path = 'path_to_your_image.jpg'  # Replace with the path to your image\n",
    "image = io.imread(image_path)\n",
    "\n",
    "mean_rgb = extract_mean_rgb(image)\n",
    "print(\"Mean RGB value of the center component:\", mean_rgb)\n"
   ]
  }
 ],
 "metadata": {
  "kernelspec": {
   "display_name": "Python 3",
   "language": "python",
   "name": "python3"
  },
  "language_info": {
   "codemirror_mode": {
    "name": "ipython",
    "version": 3
   },
   "file_extension": ".py",
   "mimetype": "text/x-python",
   "name": "python",
   "nbconvert_exporter": "python",
   "pygments_lexer": "ipython3",
   "version": "3.10.8"
  },
  "orig_nbformat": 4
 },
 "nbformat": 4,
 "nbformat_minor": 2
}
